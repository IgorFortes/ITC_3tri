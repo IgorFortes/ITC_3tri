{
 "cells": [
  {
   "cell_type": "markdown",
   "source": "# Algoritmos Populacionais",
   "metadata": {
    "tags": [],
    "is_collapsed": false,
    "cell_id": "00000-f65ff931-0a61-4439-8d0c-b3814c6b4fba",
    "deepnote_cell_type": "text-cell-h1"
   }
  },
  {
   "cell_type": "markdown",
   "source": "Algoritmos que utilizam um conjunto de soluções candidatas para o determinado problema.\nO conjunto de soluções é chamado de população.",
   "metadata": {
    "tags": [],
    "cell_id": "00001-233db35d-2d1b-4e93-80b0-cbbd548bba66",
    "deepnote_cell_type": "markdown"
   }
  },
  {
   "cell_type": "markdown",
   "source": "## Uma solução é tipicamente um vetor",
   "metadata": {
    "tags": [],
    "is_collapsed": false,
    "cell_id": "00002-651533ab-150e-41b7-bd4b-b48575987742",
    "deepnote_cell_type": "text-cell-h2"
   }
  },
  {
   "cell_type": "markdown",
   "source": "Uma solução também é chamado de indivíduo. A solução possui o tamanho M.",
   "metadata": {
    "tags": [],
    "is_collapsed": false,
    "cell_id": "00003-042c5b08-6841-479e-8d6d-d1d94e85c762",
    "deepnote_cell_type": "text-cell-p"
   }
  },
  {
   "cell_type": "markdown",
   "source": "$s = \\begin{bmatrix}\n1 & 1 & 0\n\\end{bmatrix}$",
   "metadata": {
    "tags": [],
    "cell_id": "00004-64db1997-0989-4df1-9885-624b17302818",
    "deepnote_cell_type": "markdown"
   }
  },
  {
   "cell_type": "code",
   "metadata": {
    "tags": [],
    "cell_id": "00001-1b34f249-a07c-4f18-b7c7-9fc5c7885aa0",
    "deepnote_to_be_reexecuted": false,
    "source_hash": "638c69d4",
    "execution_start": 1633477042582,
    "execution_millis": 9514,
    "deepnote_cell_type": "code"
   },
   "source": "solucao = [ 0, 0, 0, 0]",
   "outputs": [],
   "execution_count": 1
  },
  {
   "cell_type": "markdown",
   "source": "## Um conjunto de soluções é tipicamente uma matriz",
   "metadata": {
    "tags": [],
    "is_collapsed": false,
    "cell_id": "00004-5ab1dd03-1ad9-4672-9cdf-6160ec3849df",
    "deepnote_cell_type": "text-cell-h2"
   }
  },
  {
   "cell_type": "markdown",
   "source": "Cada linha da matriz é uma solução candidata. A matriz possui o tamanho NxM, onde N é a quantidade de soluções e M é o tamanho de cada solução.",
   "metadata": {
    "tags": [],
    "is_collapsed": false,
    "cell_id": "00005-2fc989c9-e771-43a9-b8ab-12e0fec8fee6",
    "deepnote_cell_type": "text-cell-p"
   }
  },
  {
   "cell_type": "markdown",
   "source": "$P = \\begin{bmatrix}\n0 & 0 & 0 \\\\ \n0 & 1 & 0 \\\\ \n0 & 1 & 1 \\\\  \n1 & 1 & 0\n\\end{bmatrix}$",
   "metadata": {
    "tags": [],
    "cell_id": "00006-0fa2af26-e5ab-45e8-ba98-969b58e65a0f",
    "deepnote_cell_type": "markdown"
   }
  },
  {
   "cell_type": "code",
   "metadata": {
    "tags": [],
    "cell_id": "00000-91aac9f0-22bf-418a-a4ac-a798aa86ca26",
    "deepnote_to_be_reexecuted": false,
    "source_hash": "d7343e20",
    "execution_start": 1633477042613,
    "execution_millis": 17,
    "output_cleared": false,
    "deepnote_cell_type": "code"
   },
   "source": "# Start writing code here...\nconjunto_de_solucoes = [ [ 0, 0, 0, 0], [ 0, 0, 0, 0], [ 0, 0, 0, 0]]\nfor i in range(len(conjunto_de_solucoes)):\n    solucao = conjunto_de_solucoes[i]\n    print(\"Solução\",i,\"=\", solucao)",
   "outputs": [
    {
     "name": "stdout",
     "text": "Solução 0 = [0, 0, 0, 0]\nSolução 1 = [0, 0, 0, 0]\nSolução 2 = [0, 0, 0, 0]\n",
     "output_type": "stream"
    }
   ],
   "execution_count": 2
  },
  {
   "cell_type": "markdown",
   "source": "## Cada solução é atribuído um valor de “fitness”",
   "metadata": {
    "tags": [],
    "is_collapsed": false,
    "cell_id": "00007-9db8658a-e171-4d41-8c9f-e6a5921a85f0",
    "deepnote_cell_type": "text-cell-h2"
   }
  },
  {
   "cell_type": "markdown",
   "source": "O valor de fitness ou aptidão define o qual bem a solução resolve o problema. Pode ser utilizado o valor calculado pela função objetivo. Tipicamente é utilizado uma matriz 1xN (matriz coluna), onde N é a quantidade de soluções candidatas.",
   "metadata": {
    "tags": [],
    "is_collapsed": false,
    "cell_id": "00008-9751e05d-ab23-4388-bc70-505f5776d9dc",
    "deepnote_cell_type": "text-cell-p"
   }
  },
  {
   "cell_type": "markdown",
   "source": "$F = \\begin{bmatrix}\n0 \\\\ \n0 \\\\ \n0 \\\\ \n1\n\\end{bmatrix}$",
   "metadata": {
    "tags": [],
    "cell_id": "00010-c4be543a-6721-423d-ab15-a02b6fcd42ca",
    "deepnote_cell_type": "markdown"
   }
  },
  {
   "cell_type": "code",
   "metadata": {
    "tags": [],
    "cell_id": "00009-dd9134b0-f643-4279-bce9-31891ebbb654",
    "deepnote_to_be_reexecuted": false,
    "source_hash": "8b58d929",
    "execution_start": 1633477042615,
    "execution_millis": 15,
    "deepnote_cell_type": "code"
   },
   "source": "fitness = [ [0],[0],[0]]\nfor i in range(len(fitness)):\n    print(\"Fitness da Solução\",i,\"=\", fitness[i])",
   "outputs": [
    {
     "name": "stdout",
     "text": "Fitness da Solução 0 = [0]\nFitness da Solução 1 = [0]\nFitness da Solução 2 = [0]\n",
     "output_type": "stream"
    }
   ],
   "execution_count": 3
  },
  {
   "cell_type": "markdown",
   "source": "## Algoritmos populacionais são algoritmos geracionais.",
   "metadata": {
    "tags": [],
    "is_collapsed": false,
    "cell_id": "00014-c10beeee-8721-4502-b5b2-20caa91df7a5",
    "deepnote_cell_type": "text-cell-h2"
   }
  },
  {
   "cell_type": "markdown",
   "source": "Uma geração representa um conjunto de soluções em um determinado período de tempo. Os algoritmos utilizam G gerações para manipular as soluções.",
   "metadata": {
    "tags": [],
    "is_collapsed": false,
    "cell_id": "00015-c8720bfa-9c17-460b-9e06-3c35bcd5f11a",
    "deepnote_cell_type": "text-cell-p"
   }
  },
  {
   "cell_type": "markdown",
   "source": "| $P_{g0} = \\begin {bmatrix}0 & 0 & 0 \\\\ 0 & 1 & 0 \\\\ 0 & 1 & 1 \\\\  1 & 1 & 0\\end{bmatrix}$ | $\\rightarrow P_{g1} = \\begin {bmatrix}0 & 0 & 0 \\\\ 0 & 1 & 0 \\\\ 0 & 1 & 1 \\\\  1 & 1 & 0\\end{bmatrix}$ | $ \\cdots \\rightarrow P_{gmax} = \\begin {bmatrix}0 & 0 & 0 \\\\ 0 & 1 & 0 \\\\ 0 & 1 & 1 \\\\  1 & 1 & 0\\end{bmatrix}$ |\n|--------------------------------------------------------------------------------------|--------------------------------------------------------------------------------------|--------------------------------------------------------------------------------------|",
   "metadata": {
    "tags": [],
    "cell_id": "00016-306eb902-2c80-400a-92f4-5d0686a1ec8d",
    "deepnote_cell_type": "markdown"
   }
  },
  {
   "cell_type": "markdown",
   "source": "| $F_{g0} = \\begin {bmatrix}0 \\\\ 0 \\\\ 0 \\\\ 1\\end{bmatrix}$ | $ \\rightarrow F_{g1} = \\begin {bmatrix}0 \\\\ 0 \\\\ 0 \\\\ 1\\end{bmatrix}$ | $ \\cdots \\rightarrow F_{gmax} = \\begin {bmatrix}0 \\\\ 0 \\\\ 0 \\\\ 1\\end{bmatrix}$ |\n|-----------------------------------------------------|-----------------------------------------------------|-----------------------------------------------------|",
   "metadata": {
    "tags": [],
    "cell_id": "00017-1279d634-1ef0-486b-a2c1-72e47c339cab",
    "deepnote_cell_type": "markdown"
   }
  },
  {
   "cell_type": "markdown",
   "source": "## População inicial",
   "metadata": {
    "tags": [],
    "is_collapsed": false,
    "cell_id": "00016-e6542c1a-3c74-4c3c-9514-39d1e26c6cd2",
    "deepnote_cell_type": "text-cell-h2"
   }
  },
  {
   "cell_type": "markdown",
   "source": "A população inicial é tipicamente gerada aleatoriamente e representa a geração 0. Todos indivíduos da população inicial devem ser avaliados.",
   "metadata": {
    "tags": [],
    "is_collapsed": false,
    "cell_id": "00019-2ac580a3-51d7-47cc-ae7c-4dc1042b69d7",
    "deepnote_cell_type": "text-cell-p"
   }
  },
  {
   "cell_type": "markdown",
   "source": "## Criação da próxima geração",
   "metadata": {
    "tags": [],
    "is_collapsed": false,
    "cell_id": "00020-4263f128-07b5-40eb-97f8-190b654a025c",
    "deepnote_cell_type": "text-cell-h2"
   }
  },
  {
   "cell_type": "markdown",
   "source": "A geração $g_i+1$ é criada a partir das modificações das soluções da geração $g_i$.",
   "metadata": {
    "tags": [],
    "cell_id": "00021-3fbd3660-34f2-4da8-a571-6012eea4b311",
    "deepnote_cell_type": "markdown"
   }
  },
  {
   "cell_type": "markdown",
   "source": "## Elitismo",
   "metadata": {
    "tags": [],
    "is_collapsed": false,
    "cell_id": "00022-b2bbf2d5-6c14-4ffd-8bcb-23dba80d1017",
    "deepnote_cell_type": "text-cell-h2"
   }
  },
  {
   "cell_type": "markdown",
   "source": "A melhor solução da geração $g_i$ pode ser incluída diretamente na próxima geração. Esta técnica evita perder a melhor solução encontrada durante o processo.",
   "metadata": {
    "tags": [],
    "cell_id": "00023-1b2652f4-d418-4c98-9515-43d6cb13dab7",
    "deepnote_cell_type": "markdown"
   }
  },
  {
   "cell_type": "markdown",
   "source": "## Reprodução",
   "metadata": {
    "tags": [],
    "is_collapsed": false,
    "cell_id": "00024-0cf1dcb7-f6ed-463d-b9db-f6a53e4f6dd0",
    "deepnote_cell_type": "text-cell-h2"
   }
  },
  {
   "cell_type": "markdown",
   "source": "De acordo com a estratégia do algoritmo, a reprodução de novos indivíduos podem ser realizados através de mutações, cruzamentos entre outros operadores. Estas operações podem envolver 1 ou mais indivíduos. Os novos indívuos gerados são adicionados na nova geração. Todos os indivíduos da geração anterior são descartados.",
   "metadata": {
    "tags": [],
    "is_collapsed": false,
    "cell_id": "00025-d1b14181-6c32-4515-87ef-1643269db455",
    "deepnote_cell_type": "text-cell-p"
   }
  },
  {
   "cell_type": "markdown",
   "source": "## Critério de parada",
   "metadata": {
    "tags": [],
    "is_collapsed": false,
    "cell_id": "00026-c894ba14-ef98-4c2e-b412-0ad79a1dd6bd",
    "deepnote_cell_type": "text-cell-h2"
   }
  },
  {
   "cell_type": "markdown",
   "source": "O algoritmo pode finalizar o processo de busca quando não for capaz gerar novas soluções por x gerações, quando atingir x avaliações de indivíduos entre outros.",
   "metadata": {
    "tags": [],
    "is_collapsed": false,
    "cell_id": "00027-07162887-6ea8-44af-94a1-933d3635ac1d",
    "deepnote_cell_type": "text-cell-p"
   }
  },
  {
   "cell_type": "markdown",
   "source": "## Pseudocódigo de um algoritmo populacional evolucionário",
   "metadata": {
    "tags": [],
    "is_collapsed": false,
    "cell_id": "00028-cd9c4ef4-183d-44ca-8018-9acc9d25337d",
    "deepnote_cell_type": "text-cell-h2"
   }
  },
  {
   "cell_type": "markdown",
   "source": "![](pseudocodigo.png)",
   "metadata": {
    "tags": [],
    "cell_id": "00029-b7605a00-08a3-4599-80ea-ec1746c88b1b",
    "deepnote_cell_type": "markdown"
   }
  },
  {
   "cell_type": "markdown",
   "source": "# Problema da Mochila Binária",
   "metadata": {
    "tags": [],
    "is_collapsed": false,
    "cell_id": "00030-f48b84ff-e931-429d-af48-7bbcc89840a0",
    "deepnote_cell_type": "text-cell-h1"
   }
  },
  {
   "cell_type": "markdown",
   "source": "Dado uma mochila, quais objetos posso carregar afim de maximizar o meu lucro?",
   "metadata": {
    "tags": [],
    "is_collapsed": false,
    "cell_id": "00031-6af04d34-271a-4b0d-861a-09692afb2ecc",
    "deepnote_cell_type": "text-cell-p"
   }
  },
  {
   "cell_type": "markdown",
   "source": "## Dados do Problema",
   "metadata": {
    "tags": [],
    "is_collapsed": false,
    "cell_id": "00031-5483117a-fb72-4e89-98a1-550c4ee4e36d",
    "deepnote_cell_type": "text-cell-h2"
   }
  },
  {
   "cell_type": "code",
   "metadata": {
    "tags": [],
    "cell_id": "00033-0a8d7d82-85ed-44ba-a680-491b32262e52",
    "deepnote_to_be_reexecuted": false,
    "source_hash": "c8eb0a5b",
    "execution_start": 1633477042616,
    "execution_millis": 2,
    "deepnote_cell_type": "code"
   },
   "source": "lucro_dos_objetos = [24,13,23,15,16]\npeso_dos_objetos = [12,7,11,8,9]\ntamanho_da_mochila = 26\npenalidade = 25",
   "outputs": [],
   "execution_count": 4
  },
  {
   "cell_type": "markdown",
   "source": "## Penalidade",
   "metadata": {
    "tags": [],
    "is_collapsed": false,
    "cell_id": "00034-ef47eebb-47de-4c93-bdd7-5d039f015397",
    "deepnote_cell_type": "text-cell-h2"
   }
  },
  {
   "cell_type": "markdown",
   "source": "O que deve ser feito com uma solução que ultrapassou o tamanho da mochila?",
   "metadata": {
    "tags": [],
    "is_collapsed": false,
    "cell_id": "00035-723b4a46-3d2b-4300-8055-0bc6387df99f",
    "deepnote_cell_type": "text-cell-p"
   }
  },
  {
   "cell_type": "markdown",
   "source": "* Solução inválida - Fitness = 0\n* Penalizo a solução = Desconto o valor do fitness\n* Corrijo a solução - Retiro algum item da mochila",
   "metadata": {
    "tags": [],
    "cell_id": "00036-11d5a2ab-4db7-4cde-ab3f-1e777b75763a",
    "deepnote_cell_type": "markdown"
   }
  },
  {
   "cell_type": "markdown",
   "source": "## Função Objetivo",
   "metadata": {
    "tags": [],
    "is_collapsed": false,
    "cell_id": "00032-466c9b78-1f7f-4bcd-ad1b-070d0ed7db8c",
    "deepnote_cell_type": "text-cell-h2"
   }
  },
  {
   "cell_type": "code",
   "metadata": {
    "tags": [],
    "cell_id": "00033-ddc39f63-02f9-4717-9151-d17c04f81d24",
    "deepnote_to_be_reexecuted": false,
    "source_hash": "f0c5e336",
    "execution_start": 1633477042621,
    "execution_millis": 0,
    "deepnote_cell_type": "code"
   },
   "source": "def funcao_objetivo(solucao):\n    fitness = 0\n    peso = 0\n    for i in range(len(solucao)):\n        fitness = fitness + ( solucao[i] * lucro_dos_objetos[i])\n        peso = peso + (solucao[i] * peso_dos_objetos[i])\n    \n    if(peso > tamanho_da_mochila):\n        fitness = fitness - penalidade\n\n    return fitness",
   "outputs": [],
   "execution_count": 5
  },
  {
   "cell_type": "markdown",
   "source": "# Desenvolvimento do Algoritmo Populacional",
   "metadata": {
    "tags": [],
    "is_collapsed": false,
    "cell_id": "00038-1c066c52-2bb3-485b-b075-d661d71741f4",
    "deepnote_cell_type": "text-cell-h1"
   }
  },
  {
   "cell_type": "markdown",
   "source": "## Inicialização dos parametros",
   "metadata": {
    "tags": [],
    "is_collapsed": false,
    "cell_id": "00039-d1796c0a-9210-4b40-a24c-cec70e203c9d",
    "deepnote_cell_type": "text-cell-h2"
   }
  },
  {
   "cell_type": "code",
   "metadata": {
    "tags": [],
    "cell_id": "00040-18d41e17-151a-447e-9739-2daf1da6818a",
    "deepnote_to_be_reexecuted": false,
    "source_hash": "a88d6ead",
    "execution_start": 1633477042645,
    "execution_millis": 0,
    "deepnote_cell_type": "code"
   },
   "source": "tamanho_da_solucao = len(lucro_dos_objetos)\ntamanho_da_populacao = 4\nquantidade_total_de_avaliacoes = 20\nquantidade_atual_de_avaliacoes = 0\npercentual_de_realizar_mutacao = 3 # 3% de chance de realizar a mutação\npopulacao = []\nproxima_populacao = []\nfitness = [0] * tamanho_da_populacao\nfitness_proxima_populacao = [0] * (tamanho_da_populacao + 1)\nindice_da_melhor_solucao = 0\nindice_da_pior_solucao = 0\n\nfor i in range (tamanho_da_populacao):\n    populacao.append([0] * tamanho_da_solucao)\n    proxima_populacao.append([0] * tamanho_da_solucao)\n\nproxima_populacao.append([0] * tamanho_da_solucao)\n",
   "outputs": [],
   "execution_count": 6
  },
  {
   "cell_type": "markdown",
   "source": "## Geração da população inicial",
   "metadata": {
    "tags": [],
    "is_collapsed": false,
    "cell_id": "00041-2bb8aa7d-1543-4bdf-99c0-384ab5e1cf74",
    "deepnote_cell_type": "text-cell-h2"
   }
  },
  {
   "cell_type": "markdown",
   "source": "Gerar a população com a distribuição uniforme.",
   "metadata": {
    "tags": [],
    "is_collapsed": false,
    "cell_id": "00043-33d417ac-8bdf-4641-8af6-52ad87fc549d",
    "deepnote_cell_type": "text-cell-p"
   }
  },
  {
   "cell_type": "code",
   "metadata": {
    "tags": [],
    "cell_id": "00042-5aeea784-0b14-4625-851d-ba1e4005fa80",
    "deepnote_to_be_reexecuted": false,
    "source_hash": "cfd3b219",
    "execution_start": 1633477042645,
    "execution_millis": 1,
    "deepnote_cell_type": "code"
   },
   "source": "import random\n\ndef gerar_solucao_inicial():\n    for i in range(tamanho_da_populacao):\n        for j in range(tamanho_da_solucao):\n            populacao[i][j] = random.randint(0, 1)",
   "outputs": [],
   "execution_count": 7
  },
  {
   "cell_type": "markdown",
   "source": "## Avaliação da população",
   "metadata": {
    "tags": [],
    "is_collapsed": false,
    "cell_id": "00043-16ef7c62-2aba-41cd-8a7a-c0655cb413a8",
    "deepnote_cell_type": "text-cell-h2"
   }
  },
  {
   "cell_type": "code",
   "metadata": {
    "tags": [],
    "cell_id": "00044-f698be43-7cbe-43e7-8a56-ce6c37cbdc74",
    "deepnote_to_be_reexecuted": false,
    "source_hash": "e9acfe8d",
    "execution_start": 1633477042646,
    "execution_millis": 0,
    "deepnote_cell_type": "code"
   },
   "source": "def avaliar_solucao(indice):\n    fitness[indice] = funcao_objetivo(populacao[indice])\n\ndef avaliar_populacao():\n    for i in range(tamanho_da_populacao):\n        avaliar_solucao(i)",
   "outputs": [],
   "execution_count": 8
  },
  {
   "cell_type": "markdown",
   "source": "## Identificar a melhor solução da população",
   "metadata": {
    "tags": [],
    "is_collapsed": false,
    "cell_id": "00045-f4b1d6fb-7c7e-4c38-93d1-f06752ecebb3",
    "deepnote_cell_type": "text-cell-h2"
   }
  },
  {
   "cell_type": "code",
   "metadata": {
    "tags": [],
    "cell_id": "00046-883d9b27-5204-48bf-a5fd-aed1ec8c47de",
    "deepnote_to_be_reexecuted": false,
    "source_hash": "bdf5b06a",
    "execution_start": 1633477042649,
    "execution_millis": 0,
    "deepnote_cell_type": "code"
   },
   "source": "def identificar_melhor_solucao():\n    indice_da_melhor_solucao = 0\n    for i in range(tamanho_da_populacao):\n        if fitness[indice_da_melhor_solucao] < fitness[i]:\n            indice_da_melhor_solucao = i\n    return indice_da_melhor_solucao",
   "outputs": [],
   "execution_count": 9
  },
  {
   "cell_type": "markdown",
   "source": "## Elitismo",
   "metadata": {
    "tags": [],
    "is_collapsed": false,
    "cell_id": "00046-3418a168-cdd9-4529-8892-edfde5d5bd08",
    "deepnote_cell_type": "text-cell-h2"
   }
  },
  {
   "cell_type": "code",
   "metadata": {
    "tags": [],
    "cell_id": "00048-3b1b59b4-bd6c-4a24-aed5-55e71bec70c0",
    "deepnote_to_be_reexecuted": false,
    "source_hash": "e4e13262",
    "execution_start": 1633477042650,
    "execution_millis": 25,
    "deepnote_cell_type": "code"
   },
   "source": "def elitismo():\n    indice_da_melhor_solucao = identificar_melhor_solucao()\n    proxima_populacao[tamanho_da_populacao] = populacao[indice_da_melhor_solucao]\n    fitness_proxima_populacao[tamanho_da_populacao] = fitness[indice_da_melhor_solucao]",
   "outputs": [],
   "execution_count": 10
  },
  {
   "cell_type": "markdown",
   "source": "## Mutação",
   "metadata": {
    "tags": [],
    "is_collapsed": false,
    "cell_id": "00049-39d6bcdc-1173-4255-9cc2-184eb6d8f448",
    "deepnote_cell_type": "text-cell-h2"
   }
  },
  {
   "cell_type": "markdown",
   "source": "Realizar uma pequena modificação no indivíduo.",
   "metadata": {
    "tags": [],
    "is_collapsed": false,
    "cell_id": "00050-e3c12071-db47-4236-9957-b7c7081618a9",
    "deepnote_cell_type": "text-cell-p"
   }
  },
  {
   "cell_type": "code",
   "metadata": {
    "tags": [],
    "cell_id": "00052-780295fc-b455-4784-aa39-a4a65ec1d59b",
    "deepnote_to_be_reexecuted": false,
    "source_hash": "f3a0698",
    "execution_start": 1633477042675,
    "execution_millis": 1,
    "deepnote_cell_type": "code"
   },
   "source": "import random\n\n\ndef mutacao(indice):\n    for i in range(tamanho_da_solucao):\n        if random.randint(0, 100) <= percentual_de_realizar_mutacao:\n            if populacao[indice][i] == 0:\n                proxima_populacao[indice][i] = 1\n            else:\n                proxima_populacao[indice][i] = 0\n        else:\n            proxima_populacao[indice][i] = populacao[indice][i]",
   "outputs": [],
   "execution_count": 11
  },
  {
   "cell_type": "markdown",
   "source": "## Gerar nova geração",
   "metadata": {
    "tags": [],
    "is_collapsed": false,
    "cell_id": "00051-70d96726-fd3b-4dbd-9a23-c44aa58710ee",
    "deepnote_cell_type": "text-cell-h2"
   }
  },
  {
   "cell_type": "markdown",
   "source": "### Identificar a pior solução da  próxima população",
   "metadata": {
    "tags": [],
    "is_collapsed": false,
    "cell_id": "00055-fd018919-f7c1-4eea-95cc-f272190c7079",
    "deepnote_cell_type": "text-cell-h3"
   }
  },
  {
   "cell_type": "markdown",
   "source": "Pior indivíduo da próxima geração é descartado.",
   "metadata": {
    "tags": [],
    "is_collapsed": false,
    "cell_id": "00056-2645daea-d99c-4a83-975d-45d376e73094",
    "deepnote_cell_type": "text-cell-p"
   }
  },
  {
   "cell_type": "code",
   "metadata": {
    "tags": [],
    "cell_id": "00052-76ca6704-e85d-400f-8fb1-af77d9e49e26",
    "deepnote_to_be_reexecuted": false,
    "source_hash": "d3a31bdc",
    "execution_start": 1633477042676,
    "execution_millis": 0,
    "deepnote_cell_type": "code"
   },
   "source": "def identificar_pior_solucao_da_proxima_populacao():\n    indice_da_pior_solucao = 0\n    for i in range(tamanho_da_populacao+1):\n        if fitness_proxima_populacao[indice_da_pior_solucao] > fitness_proxima_populacao[i]:\n            indice_da_pior_solucao = i\n    return indice_da_pior_solucao",
   "outputs": [],
   "execution_count": 12
  },
  {
   "cell_type": "code",
   "metadata": {
    "tags": [],
    "cell_id": "00058-40284a19-5143-479d-98ee-3154f5161cd7",
    "deepnote_to_be_reexecuted": false,
    "source_hash": "213522d2",
    "execution_start": 1633477042676,
    "execution_millis": 1,
    "deepnote_cell_type": "code"
   },
   "source": "def identificar_pior_solucao_da_populacao_atual():\n    indice_da_pior_solucao = 0\n    for i in range(tamanho_da_populacao):\n        if fitness[indice_da_pior_solucao] > fitness[i]:\n            indice_da_pior_solucao = i\n    return indice_da_pior_solucao\n",
   "outputs": [],
   "execution_count": 13
  },
  {
   "cell_type": "markdown",
   "source": "### Copia as soluções da nova geração",
   "metadata": {
    "tags": [],
    "is_collapsed": false,
    "cell_id": "00058-913a33fb-0a2f-4956-8938-9eafb5c2083b",
    "deepnote_cell_type": "text-cell-h3"
   }
  },
  {
   "cell_type": "code",
   "metadata": {
    "tags": [],
    "cell_id": "00059-4a0253e4-a307-43fe-b7fc-db6b5309cccd",
    "deepnote_to_be_reexecuted": false,
    "source_hash": "3cf61bfc",
    "execution_start": 1633477042685,
    "execution_millis": 0,
    "deepnote_cell_type": "code"
   },
   "source": "def gerar_proxima_populacao():\n    pior = identificar_pior_solucao_da_proxima_populacao()\n    del proxima_populacao[pior]\n    del fitness_proxima_populacao[pior]\n\n    populacao = proxima_populacao\n    fitness = fitness_proxima_populacao\n\n    proxima_populacao.append(proxima_populacao[0])\n    fitness_proxima_populacao.append(fitness_proxima_populacao[0])",
   "outputs": [],
   "execution_count": 14
  },
  {
   "cell_type": "markdown",
   "source": "## Gerações",
   "metadata": {
    "tags": [],
    "is_collapsed": false,
    "cell_id": "00043-5931a23b-244d-465c-a2cf-95c803d2ae2f",
    "deepnote_cell_type": "text-cell-h2"
   }
  },
  {
   "cell_type": "code",
   "metadata": {
    "tags": [],
    "cell_id": "00061-80f4716c-4af1-4c7f-ba59-0ee0550e4ae4",
    "deepnote_to_be_reexecuted": false,
    "source_hash": "1500dbfd",
    "execution_start": 1633477042690,
    "execution_millis": 3,
    "deepnote_cell_type": "code"
   },
   "source": "def criterio_de_parada_atingido(quantidade_atual_de_avaliacoes):\n    return quantidade_atual_de_avaliacoes >= quantidade_total_de_avaliacoes",
   "outputs": [],
   "execution_count": 15
  },
  {
   "cell_type": "code",
   "metadata": {
    "tags": [],
    "cell_id": "00062-b2865d45-e74d-46a3-b7ec-6ff052bca7a4",
    "deepnote_to_be_reexecuted": false,
    "source_hash": "470b073c",
    "execution_start": 1633477042697,
    "execution_millis": 4,
    "deepnote_cell_type": "code"
   },
   "source": "# listas para os relatórios\n\ndef relatorio_de_convergencia_da_geracao():\n    melhor_fitness_da_geracao.append(fitness[identificar_melhor_solucao()])\n    pior_fitness_da_geracao.append(fitness[identificar_pior_solucao_da_populacao_atual()])\n    media = 0\n    for i in fitness:\n        media = media+i\n    media_fitness_da_geracao.append(media/len(fitness))",
   "outputs": [],
   "execution_count": 16
  },
  {
   "cell_type": "code",
   "metadata": {
    "tags": [],
    "cell_id": "00044-0ee007b4-8fc6-44d8-9887-ae8c119026d2",
    "deepnote_to_be_reexecuted": false,
    "source_hash": "40aa1af1",
    "execution_start": 1633477042701,
    "execution_millis": 16,
    "output_cleared": false,
    "deepnote_cell_type": "code"
   },
   "source": "melhor_fitness_da_geracao = []\nmedia_fitness_da_geracao = []\npior_fitness_da_geracao = []\n\ngerar_solucao_inicial()\navaliar_populacao()\nquantidade_atual_de_avaliacoes = tamanho_da_populacao\nrelatorio_de_convergencia_da_geracao()\ncontador = 0\nwhile not criterio_de_parada_atingido(quantidade_atual_de_avaliacoes):\n    elitismo()\n    for i in range(tamanho_da_populacao):\n        mutacao(i)\n        fitness_proxima_populacao[i] = funcao_objetivo(proxima_populacao[i])\n        quantidade_atual_de_avaliacoes = quantidade_atual_de_avaliacoes + 1\n    gerar_proxima_populacao()\n    relatorio_de_convergencia_da_geracao()\n    contador = contador + 1\nprint(\"Melhor individuo\")\nmelhor_final = identificar_melhor_solucao()\nprint(populacao[melhor_final])\nprint(\"Fitness =\",fitness[melhor_final])",
   "outputs": [
    {
     "name": "stdout",
     "text": "Melhor individuo\n[0, 1, 1, 1, 0]\nFitness = 51\n",
     "output_type": "stream"
    }
   ],
   "execution_count": 17
  },
  {
   "cell_type": "markdown",
   "source": "## Relatórios",
   "metadata": {
    "tags": [],
    "is_collapsed": false,
    "cell_id": "00044-d2fad2ed-aeea-490e-97b3-45afecc7a999",
    "deepnote_cell_type": "text-cell-h2"
   }
  },
  {
   "cell_type": "markdown",
   "source": "Convergência da população. Melhor, média e pior solução",
   "metadata": {
    "tags": [],
    "is_collapsed": false,
    "cell_id": "00056-0c30ff0e-bffe-4d9d-945c-f2946c932bb3",
    "deepnote_cell_type": "text-cell-p"
   }
  },
  {
   "cell_type": "code",
   "metadata": {
    "tags": [],
    "cell_id": "00045-2b40519a-2ef0-4147-8b74-331210c78a56",
    "deepnote_to_be_reexecuted": false,
    "source_hash": "524a6ae4",
    "execution_start": 1633477042713,
    "execution_millis": 599,
    "deepnote_cell_type": "code"
   },
   "source": "import matplotlib.pyplot as plt\nimport numpy as np\n\nfig = plt.figure()\nax = plt.axes()\n\n\nplt.title(\"Convergência da população\")\nplt.xlabel(\"Geração\")\nplt.ylabel(\"Fitness\")\n\nprint(melhor_fitness_da_geracao)\nprint(media_fitness_da_geracao)\nprint(pior_fitness_da_geracao)\n\nax.plot(melhor_fitness_da_geracao, label=\"Melhor\")\nax.plot(media_fitness_da_geracao, label=\"Média\")\nax.plot(pior_fitness_da_geracao, label=\"Pior\")\nax.grid(False)\nplt.legend();",
   "outputs": [
    {
     "name": "stdout",
     "text": "[51, 51, 51, 51, 51]\n[42.75, 42.75, 42.75, 42.75, 42.75]\n[31, 31, 31, 31, 31]\n",
     "output_type": "stream"
    },
    {
     "data": {
      "text/plain": "<Figure size 432x288 with 1 Axes>",
      "image/png": "[encoded data removed]"
     },
     "metadata": {
      "needs_background": "light",
      "image/png": {
       "width": 392,
       "height": 278
      }
     },
     "output_type": "display_data"
    }
   ],
   "execution_count": 18
  },
  {
   "cell_type": "markdown",
   "source": "## Melhor Solução encontrada",
   "metadata": {
    "tags": [],
    "is_collapsed": false,
    "cell_id": "00045-061870fe-4b93-4711-bf0d-43f874022cb7",
    "deepnote_cell_type": "text-cell-h2"
   }
  },
  {
   "cell_type": "code",
   "metadata": {
    "tags": [],
    "cell_id": "00058-c234bd38-401b-424a-a460-eb40e4a38309",
    "deepnote_to_be_reexecuted": false,
    "source_hash": "b623e53d",
    "execution_start": 1633477043311,
    "execution_millis": 0,
    "deepnote_cell_type": "code"
   },
   "source": "",
   "outputs": [],
   "execution_count": 18
  },
  {
   "cell_type": "markdown",
   "source": "<a style='text-decoration:none;line-height:16px;display:flex;color:#5B5B62;padding:10px;justify-content:end;' href='https://deepnote.com?utm_source=created-in-deepnote-cell&projectId=65f1dafa-2ac7-470f-86ee-e66b5cc00c3c' target=\"_blank\">\n<img alt='Created in deepnote.com' style='display:inline;max-height:16px;margin:0px;margin-right:7.5px;' src='data:image/svg+xml;base64,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' > </img>\nCreated in <span style='font-weight:600;margin-left:4px;'>Deepnote</span></a>",
   "metadata": {
    "tags": [],
    "created_in_deepnote_cell": true,
    "deepnote_cell_type": "markdown"
   }
  }
 ],
 "nbformat": 4,
 "nbformat_minor": 2,
 "metadata": {
  "orig_nbformat": 2,
  "deepnote": {
   "is_reactive": false
  },
  "deepnote_notebook_id": "28032652-92cf-4a3b-9afe-0624ef1e6768",
  "deepnote_execution_queue": []
 }
}